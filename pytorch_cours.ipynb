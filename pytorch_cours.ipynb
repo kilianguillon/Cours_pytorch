{
  "nbformat": 4,
  "nbformat_minor": 0,
  "metadata": {
    "colab": {
      "provenance": [],
      "collapsed_sections": [
        "8MGzpFoD6cKF",
        "UY39Q8nh-k8O",
        "NXv8nxzLELVS"
      ],
      "gpuType": "T4",
      "authorship_tag": "ABX9TyMPQGx57a9aW8002H/qCYco",
      "include_colab_link": true
    },
    "kernelspec": {
      "name": "python3",
      "display_name": "Python 3"
    },
    "language_info": {
      "name": "python"
    },
    "accelerator": "GPU"
  },
  "cells": [
    {
      "cell_type": "markdown",
      "metadata": {
        "id": "view-in-github",
        "colab_type": "text"
      },
      "source": [
        "<a href=\"https://colab.research.google.com/github/kilianguillon/Cours_pytorch/blob/main/pytorch_cours.ipynb\" target=\"_parent\"><img src=\"https://colab.research.google.com/assets/colab-badge.svg\" alt=\"Open In Colab\"/></a>"
      ]
    },
    {
      "cell_type": "code",
      "source": [
        "import torch\n",
        "import pandas as pd\n",
        "import numpy as np\n",
        "import matplotlib.pyplot as plt"
      ],
      "metadata": {
        "id": "cRTxK2el6L4W"
      },
      "execution_count": 2,
      "outputs": []
    },
    {
      "cell_type": "markdown",
      "source": [
        "###Créer un tensor"
      ],
      "metadata": {
        "id": "8MGzpFoD6cKF"
      }
    },
    {
      "cell_type": "code",
      "source": [
        "scalar = torch.tensor(7)\n",
        "scalar"
      ],
      "metadata": {
        "colab": {
          "base_uri": "https://localhost:8080/"
        },
        "id": "Zulphned6Rre",
        "outputId": "20eefb5d-0816-47d2-9f3f-9ded033bedc3"
      },
      "execution_count": 3,
      "outputs": [
        {
          "output_type": "execute_result",
          "data": {
            "text/plain": [
              "tensor(7)"
            ]
          },
          "metadata": {},
          "execution_count": 3
        }
      ]
    },
    {
      "cell_type": "code",
      "source": [
        "scalar.ndim"
      ],
      "metadata": {
        "colab": {
          "base_uri": "https://localhost:8080/"
        },
        "id": "YKdAF8Fo7Adn",
        "outputId": "b94c0207-1af9-4492-b198-57deae15a680"
      },
      "execution_count": 4,
      "outputs": [
        {
          "output_type": "execute_result",
          "data": {
            "text/plain": [
              "0"
            ]
          },
          "metadata": {},
          "execution_count": 4
        }
      ]
    },
    {
      "cell_type": "code",
      "source": [],
      "metadata": {
        "id": "PqWhFm-e-igt"
      },
      "execution_count": 4,
      "outputs": []
    },
    {
      "cell_type": "code",
      "source": [
        "scalar.item()"
      ],
      "metadata": {
        "colab": {
          "base_uri": "https://localhost:8080/"
        },
        "id": "XrojnBXz7ThE",
        "outputId": "c40afff4-d00d-4324-f7bb-24815e670bfa"
      },
      "execution_count": 5,
      "outputs": [
        {
          "output_type": "execute_result",
          "data": {
            "text/plain": [
              "7"
            ]
          },
          "metadata": {},
          "execution_count": 5
        }
      ]
    },
    {
      "cell_type": "code",
      "source": [
        "vector=torch.tensor([7,7])\n",
        "vector\n",
        "vector.ndim\n",
        "vector.shape"
      ],
      "metadata": {
        "colab": {
          "base_uri": "https://localhost:8080/"
        },
        "id": "az9GmCCv7fRI",
        "outputId": "4a1df173-8d9e-4d22-cc58-e1cf626b4c72"
      },
      "execution_count": 6,
      "outputs": [
        {
          "output_type": "execute_result",
          "data": {
            "text/plain": [
              "torch.Size([2])"
            ]
          },
          "metadata": {},
          "execution_count": 6
        }
      ]
    },
    {
      "cell_type": "code",
      "source": [
        "MATRIX=torch.tensor([[7,7],\n",
        " [8,8]])\n",
        "MATRIX\n",
        "MATRIX.ndim\n",
        "MATRIX.shape"
      ],
      "metadata": {
        "colab": {
          "base_uri": "https://localhost:8080/"
        },
        "id": "ZJE3HFp87olo",
        "outputId": "66a3d88b-9da8-46db-8d38-474b84f44fba"
      },
      "execution_count": 7,
      "outputs": [
        {
          "output_type": "execute_result",
          "data": {
            "text/plain": [
              "torch.Size([2, 2])"
            ]
          },
          "metadata": {},
          "execution_count": 7
        }
      ]
    },
    {
      "cell_type": "code",
      "source": [
        "MATRIX[0]"
      ],
      "metadata": {
        "colab": {
          "base_uri": "https://localhost:8080/"
        },
        "id": "o1yJRTHa8C1w",
        "outputId": "46b1a540-2dbb-4f25-ede3-5bdcf30de043"
      },
      "execution_count": 8,
      "outputs": [
        {
          "output_type": "execute_result",
          "data": {
            "text/plain": [
              "tensor([7, 7])"
            ]
          },
          "metadata": {},
          "execution_count": 8
        }
      ]
    },
    {
      "cell_type": "code",
      "source": [
        "TENSOR=torch.tensor([[[1,2,3],\n",
        "            [5,6,7],\n",
        "             [3,5,5]]])\n",
        "TENSOR\n",
        "TENSOR.shape"
      ],
      "metadata": {
        "colab": {
          "base_uri": "https://localhost:8080/"
        },
        "id": "yDr0hwTk8NZO",
        "outputId": "d4eef303-934d-4433-e21f-f275a615d565"
      },
      "execution_count": 9,
      "outputs": [
        {
          "output_type": "execute_result",
          "data": {
            "text/plain": [
              "torch.Size([1, 3, 3])"
            ]
          },
          "metadata": {},
          "execution_count": 9
        }
      ]
    },
    {
      "cell_type": "code",
      "source": [
        "TENSOR.ndim"
      ],
      "metadata": {
        "colab": {
          "base_uri": "https://localhost:8080/"
        },
        "id": "BWJ1AlNz_qZo",
        "outputId": "e32285e3-a270-4342-fccb-67a095139125"
      },
      "execution_count": 10,
      "outputs": [
        {
          "output_type": "execute_result",
          "data": {
            "text/plain": [
              "3"
            ]
          },
          "metadata": {},
          "execution_count": 10
        }
      ]
    },
    {
      "cell_type": "code",
      "source": [
        "TENSOR[0]\n",
        "TENSOR[0][2]\n",
        "TENSOR[0][2][2]"
      ],
      "metadata": {
        "colab": {
          "base_uri": "https://localhost:8080/"
        },
        "id": "LSDQBcTA8tXR",
        "outputId": "34e79cc8-2a48-4a9e-a889-5ffadaa86063"
      },
      "execution_count": 11,
      "outputs": [
        {
          "output_type": "execute_result",
          "data": {
            "text/plain": [
              "tensor(5)"
            ]
          },
          "metadata": {},
          "execution_count": 11
        }
      ]
    },
    {
      "cell_type": "code",
      "source": [
        "TENS=torch.tensor([[[1,2,3],[1,2,3]],[[4,2,3],[4,2,3]]])\n",
        "TENS.shape"
      ],
      "metadata": {
        "colab": {
          "base_uri": "https://localhost:8080/"
        },
        "id": "_W1cryk99MLv",
        "outputId": "36980076-856d-4022-9108-3c595e7a57d6"
      },
      "execution_count": 12,
      "outputs": [
        {
          "output_type": "execute_result",
          "data": {
            "text/plain": [
              "torch.Size([2, 2, 3])"
            ]
          },
          "metadata": {},
          "execution_count": 12
        }
      ]
    },
    {
      "cell_type": "code",
      "source": [
        "TENS.ndim"
      ],
      "metadata": {
        "colab": {
          "base_uri": "https://localhost:8080/"
        },
        "id": "1lNhIur5_kVc",
        "outputId": "435edd79-4bc2-4e85-86a6-c7fb4d951c0c"
      },
      "execution_count": 13,
      "outputs": [
        {
          "output_type": "execute_result",
          "data": {
            "text/plain": [
              "3"
            ]
          },
          "metadata": {},
          "execution_count": 13
        }
      ]
    },
    {
      "cell_type": "code",
      "source": [
        "zeros=torch.zeros((2,2))\n",
        "zeros"
      ],
      "metadata": {
        "colab": {
          "base_uri": "https://localhost:8080/"
        },
        "id": "A3j-zBUWCB_i",
        "outputId": "321d2de4-795d-49fc-d94e-f7fa0fd7de87"
      },
      "execution_count": 14,
      "outputs": [
        {
          "output_type": "execute_result",
          "data": {
            "text/plain": [
              "tensor([[0., 0.],\n",
              "        [0., 0.]])"
            ]
          },
          "metadata": {},
          "execution_count": 14
        }
      ]
    },
    {
      "cell_type": "code",
      "source": [
        "ones=torch.ones((3,3))\n",
        "ones"
      ],
      "metadata": {
        "colab": {
          "base_uri": "https://localhost:8080/"
        },
        "id": "bOJmwrl2CJNP",
        "outputId": "be928bd6-9ce3-4bae-9ea1-5928f94c44c4"
      },
      "execution_count": 15,
      "outputs": [
        {
          "output_type": "execute_result",
          "data": {
            "text/plain": [
              "tensor([[1., 1., 1.],\n",
              "        [1., 1., 1.],\n",
              "        [1., 1., 1.]])"
            ]
          },
          "metadata": {},
          "execution_count": 15
        }
      ]
    },
    {
      "cell_type": "code",
      "source": [
        "ones.dtype"
      ],
      "metadata": {
        "colab": {
          "base_uri": "https://localhost:8080/"
        },
        "id": "hAsvUbtzCXcX",
        "outputId": "bafa58cd-d79e-47d1-8d76-40e1e7d960d6"
      },
      "execution_count": 16,
      "outputs": [
        {
          "output_type": "execute_result",
          "data": {
            "text/plain": [
              "torch.float32"
            ]
          },
          "metadata": {},
          "execution_count": 16
        }
      ]
    },
    {
      "cell_type": "markdown",
      "source": [
        "###Random tensors"
      ],
      "metadata": {
        "id": "UY39Q8nh-k8O"
      }
    },
    {
      "cell_type": "code",
      "source": [
        "random_tensor=torch.rand(2,2,3)\n",
        "random_tensor"
      ],
      "metadata": {
        "colab": {
          "base_uri": "https://localhost:8080/"
        },
        "id": "u8-iNugV-oRc",
        "outputId": "279eb575-04ae-4d38-ee75-cf4a392ca785"
      },
      "execution_count": 17,
      "outputs": [
        {
          "output_type": "execute_result",
          "data": {
            "text/plain": [
              "tensor([[[0.6776, 0.6336, 0.7499],\n",
              "         [0.0739, 0.2207, 0.9757]],\n",
              "\n",
              "        [[0.3639, 0.5110, 0.3374],\n",
              "         [0.8170, 0.6441, 0.4422]]])"
            ]
          },
          "metadata": {},
          "execution_count": 17
        }
      ]
    },
    {
      "cell_type": "code",
      "source": [
        "random_image_size=torch.rand(224,224,3  ) #hauteur, largeur, couleur\n",
        "random_image_size.ndim, random_image_size.shape"
      ],
      "metadata": {
        "colab": {
          "base_uri": "https://localhost:8080/"
        },
        "id": "J99Nhsd5_wW0",
        "outputId": "c436a092-2fe7-4e3e-8276-854f5373d146"
      },
      "execution_count": 18,
      "outputs": [
        {
          "output_type": "execute_result",
          "data": {
            "text/plain": [
              "(3, torch.Size([224, 224, 3]))"
            ]
          },
          "metadata": {},
          "execution_count": 18
        }
      ]
    },
    {
      "cell_type": "markdown",
      "source": [
        "###Range and tensors-like"
      ],
      "metadata": {
        "id": "68RHu6VjCvqj"
      }
    },
    {
      "cell_type": "code",
      "source": [
        "torch.arange(0,10)"
      ],
      "metadata": {
        "colab": {
          "base_uri": "https://localhost:8080/"
        },
        "id": "IfgAyGa-C2HD",
        "outputId": "585a7401-3cc4-49a1-e960-dde87a01adf4"
      },
      "execution_count": 19,
      "outputs": [
        {
          "output_type": "execute_result",
          "data": {
            "text/plain": [
              "tensor([0, 1, 2, 3, 4, 5, 6, 7, 8, 9])"
            ]
          },
          "metadata": {},
          "execution_count": 19
        }
      ]
    },
    {
      "cell_type": "code",
      "source": [
        "ranger=torch.arange(0,13,3)\n",
        "ranger"
      ],
      "metadata": {
        "colab": {
          "base_uri": "https://localhost:8080/"
        },
        "id": "odo7VfKGC9ST",
        "outputId": "80a83c2f-8e9e-4129-e2d9-74244732e920"
      },
      "execution_count": 20,
      "outputs": [
        {
          "output_type": "execute_result",
          "data": {
            "text/plain": [
              "tensor([ 0,  3,  6,  9, 12])"
            ]
          },
          "metadata": {},
          "execution_count": 20
        }
      ]
    },
    {
      "cell_type": "code",
      "source": [
        "ranger_zeros=torch.zeros_like(ranger)\n",
        "ranger_zeros"
      ],
      "metadata": {
        "colab": {
          "base_uri": "https://localhost:8080/"
        },
        "id": "tikCx_kmDsFO",
        "outputId": "a422b657-a7a2-4d5b-a571-a241f2b268ef"
      },
      "execution_count": 21,
      "outputs": [
        {
          "output_type": "execute_result",
          "data": {
            "text/plain": [
              "tensor([0, 0, 0, 0, 0])"
            ]
          },
          "metadata": {},
          "execution_count": 21
        }
      ]
    },
    {
      "cell_type": "markdown",
      "source": [
        "###Tensor datatypes (cause d'erreurs) and devices"
      ],
      "metadata": {
        "id": "NXv8nxzLELVS"
      }
    },
    {
      "cell_type": "code",
      "source": [
        "float_16_tensor=torch.tensor([30,6.0,9.0],dtype=torch.float16,\n",
        "                             device=None,\n",
        "                             requires_grad=False)\n",
        "float_16_tensor.dtype"
      ],
      "metadata": {
        "colab": {
          "base_uri": "https://localhost:8080/"
        },
        "id": "HJlBnEnDEKkV",
        "outputId": "8bc382b8-1953-4315-ff2b-c1c593884e7a"
      },
      "execution_count": 22,
      "outputs": [
        {
          "output_type": "execute_result",
          "data": {
            "text/plain": [
              "torch.float16"
            ]
          },
          "metadata": {},
          "execution_count": 22
        }
      ]
    },
    {
      "cell_type": "code",
      "source": [
        "float_16_tensor.device"
      ],
      "metadata": {
        "colab": {
          "base_uri": "https://localhost:8080/"
        },
        "id": "4shLRynmH3Fk",
        "outputId": "03c818f3-2046-494c-bfe6-270f6d237324"
      },
      "execution_count": 23,
      "outputs": [
        {
          "output_type": "execute_result",
          "data": {
            "text/plain": [
              "device(type='cpu')"
            ]
          },
          "metadata": {},
          "execution_count": 23
        }
      ]
    },
    {
      "cell_type": "markdown",
      "source": [
        "### Manipulating tensors"
      ],
      "metadata": {
        "id": "SK0wnAD0Ibhh"
      }
    },
    {
      "cell_type": "code",
      "source": [
        "a=torch.rand(2,2,2)\n",
        "b=torch.rand(2,2,2)\n",
        "a+10, a*10, a+b, a-b,a*b"
      ],
      "metadata": {
        "colab": {
          "base_uri": "https://localhost:8080/"
        },
        "id": "d_TLEwf3IfWa",
        "outputId": "cf0b1232-3b8e-461e-9d87-797bde799972"
      },
      "execution_count": 24,
      "outputs": [
        {
          "output_type": "execute_result",
          "data": {
            "text/plain": [
              "(tensor([[[10.3643, 10.5561],\n",
              "          [10.9724, 10.1533]],\n",
              " \n",
              "         [[10.6421, 10.6321],\n",
              "          [10.8450, 10.3956]]]),\n",
              " tensor([[[3.6429, 5.5612],\n",
              "          [9.7243, 1.5327]],\n",
              " \n",
              "         [[6.4214, 6.3209],\n",
              "          [8.4496, 3.9563]]]),\n",
              " tensor([[[0.4509, 0.6029],\n",
              "          [1.7322, 0.9389]],\n",
              " \n",
              "         [[1.3894, 1.4575],\n",
              "          [0.9037, 1.2351]]]),\n",
              " tensor([[[ 0.2777,  0.5094],\n",
              "          [ 0.2127, -0.6323]],\n",
              " \n",
              "         [[-0.1051, -0.1933],\n",
              "          [ 0.7862, -0.4438]]]),\n",
              " tensor([[[0.0316, 0.0260],\n",
              "          [0.7388, 0.1204]],\n",
              " \n",
              "         [[0.4799, 0.5217],\n",
              "          [0.0497, 0.3321]]]))"
            ]
          },
          "metadata": {},
          "execution_count": 24
        }
      ]
    },
    {
      "cell_type": "code",
      "source": [
        "tensor = torch.arange(5)\n",
        "print(\"element wise multiplication : \"+str(tensor*tensor))\n",
        "print(\"matrix multiplication : \"+str(torch.matmul(tensor,tensor))) #ou torch.mm"
      ],
      "metadata": {
        "colab": {
          "base_uri": "https://localhost:8080/"
        },
        "id": "3dVBWb3MnauY",
        "outputId": "4b099d54-a04f-4b5e-8e2d-875021fcf1ad"
      },
      "execution_count": 25,
      "outputs": [
        {
          "output_type": "stream",
          "name": "stdout",
          "text": [
            "element wise multiplication : tensor([ 0,  1,  4,  9, 16])\n",
            "matrix multiplication : tensor(30)\n"
          ]
        }
      ]
    },
    {
      "cell_type": "code",
      "source": [
        "tensor=torch.rand(2,2)\n",
        "print(str(tensor))\n",
        "print(\"matrix multiplication : \"+str(torch.mm(tensor,tensor))) #plus efficace que faire des boucles (vectorised)"
      ],
      "metadata": {
        "colab": {
          "base_uri": "https://localhost:8080/"
        },
        "id": "GhDI8xSDoigt",
        "outputId": "4bcad45c-f6a9-4b53-9993-ae974c6b1bee"
      },
      "execution_count": 26,
      "outputs": [
        {
          "output_type": "stream",
          "name": "stdout",
          "text": [
            "tensor([[0.0431, 0.1608],\n",
            "        [0.0533, 0.2687]])\n",
            "matrix multiplication : tensor([[0.0104, 0.0501],\n",
            "        [0.0166, 0.0808]])\n"
          ]
        }
      ]
    },
    {
      "cell_type": "code",
      "source": [
        "tensor=torch.rand(4,2)\n",
        "tensor, tensor.T #transposition"
      ],
      "metadata": {
        "colab": {
          "base_uri": "https://localhost:8080/"
        },
        "id": "omEZxpyNqxw8",
        "outputId": "96523cb7-bca0-488d-cdca-13baab4bed3e"
      },
      "execution_count": 27,
      "outputs": [
        {
          "output_type": "execute_result",
          "data": {
            "text/plain": [
              "(tensor([[0.6850, 0.4327],\n",
              "         [0.8160, 0.6188],\n",
              "         [0.7816, 0.5892],\n",
              "         [0.6295, 0.1680]]),\n",
              " tensor([[0.6850, 0.8160, 0.7816, 0.6295],\n",
              "         [0.4327, 0.6188, 0.5892, 0.1680]]))"
            ]
          },
          "metadata": {},
          "execution_count": 27
        }
      ]
    },
    {
      "cell_type": "markdown",
      "source": [
        "### Finding min, max, mean, sum...\n"
      ],
      "metadata": {
        "id": "N6-XRt3ErBlb"
      }
    },
    {
      "cell_type": "code",
      "source": [
        "tensor=torch.arange(0,100,5)\n",
        "tensor.min(), tensor.max(), tensor.mean(dtype=torch.float32), tensor.sum() #mean needs a float32 dtype (not 64)"
      ],
      "metadata": {
        "colab": {
          "base_uri": "https://localhost:8080/"
        },
        "id": "EOdbIEcIrA0B",
        "outputId": "acc6ce73-7f17-41ed-a4b8-8131a794ff67"
      },
      "execution_count": 28,
      "outputs": [
        {
          "output_type": "execute_result",
          "data": {
            "text/plain": [
              "(tensor(0), tensor(95), tensor(47.5000), tensor(950))"
            ]
          },
          "metadata": {},
          "execution_count": 28
        }
      ]
    },
    {
      "cell_type": "markdown",
      "source": [],
      "metadata": {
        "id": "LJNbnzGNsEzk"
      }
    },
    {
      "cell_type": "markdown",
      "source": [
        "###Reshaping, stacking, squeezing and unsqueezing tensors"
      ],
      "metadata": {
        "id": "U5WIVsAMtKcV"
      }
    },
    {
      "cell_type": "code",
      "source": [
        "x = torch.arange(1.,10.)\n",
        "x, x.shape"
      ],
      "metadata": {
        "colab": {
          "base_uri": "https://localhost:8080/"
        },
        "id": "bMogZxMrtQ6y",
        "outputId": "da23de7a-6a05-4a22-b584-a8552c4ce15b"
      },
      "execution_count": 29,
      "outputs": [
        {
          "output_type": "execute_result",
          "data": {
            "text/plain": [
              "(tensor([1., 2., 3., 4., 5., 6., 7., 8., 9.]), torch.Size([9]))"
            ]
          },
          "metadata": {},
          "execution_count": 29
        }
      ]
    },
    {
      "cell_type": "code",
      "source": [
        "x_reshaped=x.reshape(1,9)\n",
        "x_reshaped, x_reshaped.shape"
      ],
      "metadata": {
        "colab": {
          "base_uri": "https://localhost:8080/"
        },
        "id": "VJ0h2hKNuT9S",
        "outputId": "f7de1136-e61e-4e09-bf6d-87432004eec4"
      },
      "execution_count": 30,
      "outputs": [
        {
          "output_type": "execute_result",
          "data": {
            "text/plain": [
              "(tensor([[1., 2., 3., 4., 5., 6., 7., 8., 9.]]), torch.Size([1, 9]))"
            ]
          },
          "metadata": {},
          "execution_count": 30
        }
      ]
    },
    {
      "cell_type": "code",
      "source": [
        "x_reshaped=x.reshape(9,1)\n",
        "x_reshaped, x_reshaped.shape"
      ],
      "metadata": {
        "colab": {
          "base_uri": "https://localhost:8080/"
        },
        "id": "nbxA2SO8upv_",
        "outputId": "35d3fce2-1b02-40c7-d95e-55766fb712f5"
      },
      "execution_count": 31,
      "outputs": [
        {
          "output_type": "execute_result",
          "data": {
            "text/plain": [
              "(tensor([[1.],\n",
              "         [2.],\n",
              "         [3.],\n",
              "         [4.],\n",
              "         [5.],\n",
              "         [6.],\n",
              "         [7.],\n",
              "         [8.],\n",
              "         [9.]]),\n",
              " torch.Size([9, 1]))"
            ]
          },
          "metadata": {},
          "execution_count": 31
        }
      ]
    },
    {
      "cell_type": "code",
      "source": [
        "x = torch.arange(1.,11.)\n",
        "x_reshaped=x.reshape(5,2)\n",
        "x_reshaped, x_reshaped.shape"
      ],
      "metadata": {
        "colab": {
          "base_uri": "https://localhost:8080/"
        },
        "id": "GZu_uyuhu0N2",
        "outputId": "2840920e-d6a6-4f14-b13e-68b51b68236f"
      },
      "execution_count": 32,
      "outputs": [
        {
          "output_type": "execute_result",
          "data": {
            "text/plain": [
              "(tensor([[ 1.,  2.],\n",
              "         [ 3.,  4.],\n",
              "         [ 5.,  6.],\n",
              "         [ 7.,  8.],\n",
              "         [ 9., 10.]]),\n",
              " torch.Size([5, 2]))"
            ]
          },
          "metadata": {},
          "execution_count": 32
        }
      ]
    },
    {
      "cell_type": "code",
      "source": [
        "z=x.view(1,10) #z shares the same memory as x (if z changes, x changes)\n",
        "z, z.shape"
      ],
      "metadata": {
        "colab": {
          "base_uri": "https://localhost:8080/"
        },
        "id": "Ywz7UQ2GwDaT",
        "outputId": "580adf9b-f6ec-4974-f298-aaa00a65de22"
      },
      "execution_count": 33,
      "outputs": [
        {
          "output_type": "execute_result",
          "data": {
            "text/plain": [
              "(tensor([[ 1.,  2.,  3.,  4.,  5.,  6.,  7.,  8.,  9., 10.]]),\n",
              " torch.Size([1, 10]))"
            ]
          },
          "metadata": {},
          "execution_count": 33
        }
      ]
    },
    {
      "cell_type": "code",
      "source": [
        "z=x.view(2,5)\n",
        "z, z.shape"
      ],
      "metadata": {
        "colab": {
          "base_uri": "https://localhost:8080/"
        },
        "id": "WP44F-JPwWUh",
        "outputId": "202fd356-deb5-49c5-c1b4-8b4c91fa4750"
      },
      "execution_count": 34,
      "outputs": [
        {
          "output_type": "execute_result",
          "data": {
            "text/plain": [
              "(tensor([[ 1.,  2.,  3.,  4.,  5.],\n",
              "         [ 6.,  7.,  8.,  9., 10.]]),\n",
              " torch.Size([2, 5]))"
            ]
          },
          "metadata": {},
          "execution_count": 34
        }
      ]
    },
    {
      "cell_type": "code",
      "source": [
        "z[:,0]=5\n",
        "z,x"
      ],
      "metadata": {
        "colab": {
          "base_uri": "https://localhost:8080/"
        },
        "id": "Y0G_XfktyQd7",
        "outputId": "bca0862e-dcc6-4839-827c-0d6185553125"
      },
      "execution_count": 35,
      "outputs": [
        {
          "output_type": "execute_result",
          "data": {
            "text/plain": [
              "(tensor([[ 5.,  2.,  3.,  4.,  5.],\n",
              "         [ 5.,  7.,  8.,  9., 10.]]),\n",
              " tensor([ 5.,  2.,  3.,  4.,  5.,  5.,  7.,  8.,  9., 10.]))"
            ]
          },
          "metadata": {},
          "execution_count": 35
        }
      ]
    },
    {
      "cell_type": "code",
      "source": [
        "x_stacked=torch.stack([x,x,x,x],dim=0) #stack par ligne\n",
        "x_stacked"
      ],
      "metadata": {
        "colab": {
          "base_uri": "https://localhost:8080/"
        },
        "id": "6PP2arE3yXFv",
        "outputId": "3432c9a0-e313-4603-b841-b1c759ab4701"
      },
      "execution_count": 36,
      "outputs": [
        {
          "output_type": "execute_result",
          "data": {
            "text/plain": [
              "tensor([[ 5.,  2.,  3.,  4.,  5.,  5.,  7.,  8.,  9., 10.],\n",
              "        [ 5.,  2.,  3.,  4.,  5.,  5.,  7.,  8.,  9., 10.],\n",
              "        [ 5.,  2.,  3.,  4.,  5.,  5.,  7.,  8.,  9., 10.],\n",
              "        [ 5.,  2.,  3.,  4.,  5.,  5.,  7.,  8.,  9., 10.]])"
            ]
          },
          "metadata": {},
          "execution_count": 36
        }
      ]
    },
    {
      "cell_type": "code",
      "source": [
        "x_stacked=torch.stack([x,x,x,x],dim=1) #stack par colonne\n",
        "x_stacked"
      ],
      "metadata": {
        "colab": {
          "base_uri": "https://localhost:8080/"
        },
        "id": "5RqtieeqytVo",
        "outputId": "8d90549a-cef3-49d3-bb7c-9cf2fb739196"
      },
      "execution_count": 37,
      "outputs": [
        {
          "output_type": "execute_result",
          "data": {
            "text/plain": [
              "tensor([[ 5.,  5.,  5.,  5.],\n",
              "        [ 2.,  2.,  2.,  2.],\n",
              "        [ 3.,  3.,  3.,  3.],\n",
              "        [ 4.,  4.,  4.,  4.],\n",
              "        [ 5.,  5.,  5.,  5.],\n",
              "        [ 5.,  5.,  5.,  5.],\n",
              "        [ 7.,  7.,  7.,  7.],\n",
              "        [ 8.,  8.,  8.,  8.],\n",
              "        [ 9.,  9.,  9.,  9.],\n",
              "        [10., 10., 10., 10.]])"
            ]
          },
          "metadata": {},
          "execution_count": 37
        }
      ]
    },
    {
      "cell_type": "code",
      "source": [
        "x=torch.rand(1,9)\n",
        "print(x, x.shape)\n",
        "y=torch.squeeze(x) #it removes a dimension of x\n",
        "print(y, y.shape)"
      ],
      "metadata": {
        "colab": {
          "base_uri": "https://localhost:8080/"
        },
        "id": "4dagSRj4yxcA",
        "outputId": "d7b811d7-95aa-431d-f8cd-4b44e7c60fde"
      },
      "execution_count": 38,
      "outputs": [
        {
          "output_type": "stream",
          "name": "stdout",
          "text": [
            "tensor([[0.1214, 0.3700, 0.3567, 0.2761, 0.7764, 0.8146, 0.9356, 0.8173, 0.7863]]) torch.Size([1, 9])\n",
            "tensor([0.1214, 0.3700, 0.3567, 0.2761, 0.7764, 0.8146, 0.9356, 0.8173, 0.7863]) torch.Size([9])\n"
          ]
        }
      ]
    },
    {
      "cell_type": "code",
      "source": [
        "x=torch.rand(9)\n",
        "print(x, x.shape)\n",
        "y=torch.unsqueeze(x,dim=1) #it adds a dimension of x\n",
        "print(y, y.shape)"
      ],
      "metadata": {
        "colab": {
          "base_uri": "https://localhost:8080/"
        },
        "id": "iMOsseAGz5Yb",
        "outputId": "67771420-89bc-48fa-b392-d53f7936221f"
      },
      "execution_count": 39,
      "outputs": [
        {
          "output_type": "stream",
          "name": "stdout",
          "text": [
            "tensor([0.8842, 0.7540, 0.8720, 0.5951, 0.3357, 0.0955, 0.7690, 0.1468, 0.1153]) torch.Size([9])\n",
            "tensor([[0.8842],\n",
            "        [0.7540],\n",
            "        [0.8720],\n",
            "        [0.5951],\n",
            "        [0.3357],\n",
            "        [0.0955],\n",
            "        [0.7690],\n",
            "        [0.1468],\n",
            "        [0.1153]]) torch.Size([9, 1])\n"
          ]
        }
      ]
    },
    {
      "cell_type": "code",
      "source": [
        "x=torch.randn(2,3,5) #permute crée une view de x donc utilise la même mémoire\n",
        "x.size(),torch.permute(x,(2,0,1)).size()"
      ],
      "metadata": {
        "colab": {
          "base_uri": "https://localhost:8080/"
        },
        "id": "_PGA5Igu1HUD",
        "outputId": "4dc9b83c-96c2-46b3-f4f3-84bdba47efaa"
      },
      "execution_count": 40,
      "outputs": [
        {
          "output_type": "execute_result",
          "data": {
            "text/plain": [
              "(torch.Size([2, 3, 5]), torch.Size([5, 2, 3]))"
            ]
          },
          "metadata": {},
          "execution_count": 40
        }
      ]
    },
    {
      "cell_type": "code",
      "source": [
        "#image example\n",
        "x_original=torch.rand((224,224,3)) #(height, width, colour)\n",
        "print(x_original.shape)\n",
        "x_permuted=x_original.permute(2,0,1) #colour, height, width\n",
        "print(x_permuted.shape)"
      ],
      "metadata": {
        "colab": {
          "base_uri": "https://localhost:8080/"
        },
        "id": "ebQc1FBH3c4-",
        "outputId": "8634ff12-d391-4027-8e0c-847eebd30936"
      },
      "execution_count": 41,
      "outputs": [
        {
          "output_type": "stream",
          "name": "stdout",
          "text": [
            "torch.Size([224, 224, 3])\n",
            "torch.Size([3, 224, 224])\n"
          ]
        }
      ]
    },
    {
      "cell_type": "markdown",
      "source": [
        "###Indexation"
      ],
      "metadata": {
        "id": "fr-wQmc-4Mzq"
      }
    },
    {
      "cell_type": "code",
      "source": [
        "x=torch.arange(1,10).reshape(1,3,3)\n",
        "x, x.shape"
      ],
      "metadata": {
        "colab": {
          "base_uri": "https://localhost:8080/"
        },
        "id": "5Wvtbd264LUo",
        "outputId": "1aa1e45c-c719-4dd7-a208-81b4847cfb1f"
      },
      "execution_count": 42,
      "outputs": [
        {
          "output_type": "execute_result",
          "data": {
            "text/plain": [
              "(tensor([[[1, 2, 3],\n",
              "          [4, 5, 6],\n",
              "          [7, 8, 9]]]),\n",
              " torch.Size([1, 3, 3]))"
            ]
          },
          "metadata": {},
          "execution_count": 42
        }
      ]
    },
    {
      "cell_type": "code",
      "source": [
        "x[0], x[0][1], x[0][1][2], x[:,2], x[:,:,1] # \":\" means select all (it takes all the value of the Oth and 1st dim but only index 1 of the second ones)"
      ],
      "metadata": {
        "colab": {
          "base_uri": "https://localhost:8080/"
        },
        "id": "ZmTalv8v4kCE",
        "outputId": "b1566a63-f3ee-4422-f92e-06dc2d4b43dc"
      },
      "execution_count": 43,
      "outputs": [
        {
          "output_type": "execute_result",
          "data": {
            "text/plain": [
              "(tensor([[1, 2, 3],\n",
              "         [4, 5, 6],\n",
              "         [7, 8, 9]]),\n",
              " tensor([4, 5, 6]),\n",
              " tensor(6),\n",
              " tensor([[7, 8, 9]]),\n",
              " tensor([[2, 5, 8]]))"
            ]
          },
          "metadata": {},
          "execution_count": 43
        }
      ]
    },
    {
      "cell_type": "markdown",
      "source": [
        "###Pytorch and numpy"
      ],
      "metadata": {
        "id": "iSnewQRG5sAq"
      }
    },
    {
      "cell_type": "code",
      "source": [
        "array = np.arange(1.,8.) #numpy en float64 et tensor en float32\n",
        "tensor=torch.from_numpy(array) #deux emplacements mémoire différents\n",
        "array, tensor"
      ],
      "metadata": {
        "colab": {
          "base_uri": "https://localhost:8080/"
        },
        "id": "t6XvaJ2N5u10",
        "outputId": "dc638b8f-4706-4c92-cb47-bd9b0f9a4368"
      },
      "execution_count": 44,
      "outputs": [
        {
          "output_type": "execute_result",
          "data": {
            "text/plain": [
              "(array([1., 2., 3., 4., 5., 6., 7.]),\n",
              " tensor([1., 2., 3., 4., 5., 6., 7.], dtype=torch.float64))"
            ]
          },
          "metadata": {},
          "execution_count": 44
        }
      ]
    },
    {
      "cell_type": "code",
      "source": [
        "tensor = torch.ones(7)\n",
        "numpy_tensor=tensor.numpy()\n",
        "tensor, numpy_tensor"
      ],
      "metadata": {
        "colab": {
          "base_uri": "https://localhost:8080/"
        },
        "id": "aMGDgIgS8S0A",
        "outputId": "3df95879-1964-4406-f13c-dd90dcc88b4d"
      },
      "execution_count": 45,
      "outputs": [
        {
          "output_type": "execute_result",
          "data": {
            "text/plain": [
              "(tensor([1., 1., 1., 1., 1., 1., 1.]),\n",
              " array([1., 1., 1., 1., 1., 1., 1.], dtype=float32))"
            ]
          },
          "metadata": {},
          "execution_count": 45
        }
      ]
    },
    {
      "cell_type": "markdown",
      "source": [
        "###Reproductibility"
      ],
      "metadata": {
        "id": "GXN3xl7Z9Hz_"
      }
    },
    {
      "cell_type": "code",
      "source": [
        "A=torch.rand(2,2)\n",
        "B=torch.rand(2,2)\n",
        "print(A==B)"
      ],
      "metadata": {
        "colab": {
          "base_uri": "https://localhost:8080/"
        },
        "id": "aglbHWqF-JKq",
        "outputId": "19d87f9b-9c73-4129-bfdf-b632c43da608"
      },
      "execution_count": 46,
      "outputs": [
        {
          "output_type": "stream",
          "name": "stdout",
          "text": [
            "tensor([[False, False],\n",
            "        [False, False]])\n"
          ]
        }
      ]
    },
    {
      "cell_type": "code",
      "source": [
        "torch.manual_seed(667)\n",
        "A=torch.rand(2,2)\n",
        "torch.manual_seed(667)\n",
        "B=torch.rand(2,2)\n",
        "print(A==B)"
      ],
      "metadata": {
        "colab": {
          "base_uri": "https://localhost:8080/"
        },
        "id": "IpFCzDKh9NWk",
        "outputId": "7d95d945-1b68-4dd3-b922-d255a9dbc8c0"
      },
      "execution_count": 47,
      "outputs": [
        {
          "output_type": "stream",
          "name": "stdout",
          "text": [
            "tensor([[True, True],\n",
            "        [True, True]])\n"
          ]
        }
      ]
    },
    {
      "cell_type": "markdown",
      "source": [
        "###GPU"
      ],
      "metadata": {
        "id": "xn_lCihFCHel"
      }
    },
    {
      "cell_type": "code",
      "source": [
        "torch.cuda.is_available() #vrai on a un gpu\n",
        "device = 'cuda' if torch.cuda.is_available() else \"cpu\" #device agnostic variable\n",
        "print(device, torch.cuda.device_count())"
      ],
      "metadata": {
        "colab": {
          "base_uri": "https://localhost:8080/"
        },
        "id": "TpJDcCafCGgm",
        "outputId": "322b2009-37f5-42ac-d909-1770e926483b"
      },
      "execution_count": 50,
      "outputs": [
        {
          "output_type": "stream",
          "name": "stdout",
          "text": [
            "cuda 1\n"
          ]
        }
      ]
    },
    {
      "cell_type": "code",
      "source": [
        "#putting tensors and models on gpu\n",
        "tensor=torch.tensor([1,2,3])\n",
        "tensor, tensor.device"
      ],
      "metadata": {
        "colab": {
          "base_uri": "https://localhost:8080/"
        },
        "id": "rjpDh-DgEsoW",
        "outputId": "7d997478-f908-4b71-9bf1-c7f50a346167"
      },
      "execution_count": 51,
      "outputs": [
        {
          "output_type": "execute_result",
          "data": {
            "text/plain": [
              "(tensor([1, 2, 3]), device(type='cpu'))"
            ]
          },
          "metadata": {},
          "execution_count": 51
        }
      ]
    },
    {
      "cell_type": "code",
      "source": [
        "tensor_on_gpu=tensor.to(device)\n",
        "tensor_on_gpu"
      ],
      "metadata": {
        "colab": {
          "base_uri": "https://localhost:8080/"
        },
        "id": "qlKbz9rwFRWf",
        "outputId": "07810dcf-f755-4e33-9e8d-8bc0b092a60c"
      },
      "execution_count": 52,
      "outputs": [
        {
          "output_type": "execute_result",
          "data": {
            "text/plain": [
              "tensor([1, 2, 3], device='cuda:0')"
            ]
          },
          "metadata": {},
          "execution_count": 52
        }
      ]
    },
    {
      "cell_type": "code",
      "source": [
        "#a tensor on gpu can't transform to numpy\n",
        "tensor_back_cpu=tensor_on_gpu.cpu()\n",
        "tensor_back_cpu, tensor_back_cpu.device"
      ],
      "metadata": {
        "colab": {
          "base_uri": "https://localhost:8080/"
        },
        "id": "zU97B_0HFzis",
        "outputId": "ccb5e937-a750-4ffa-b057-bd4342baaa8a"
      },
      "execution_count": 54,
      "outputs": [
        {
          "output_type": "execute_result",
          "data": {
            "text/plain": [
              "(tensor([1, 2, 3]), device(type='cpu'))"
            ]
          },
          "metadata": {},
          "execution_count": 54
        }
      ]
    }
  ]
}